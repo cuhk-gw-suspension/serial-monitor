{
 "cells": [
  {
   "cell_type": "code",
   "execution_count": 1,
   "id": "3724a6e3-ff34-4a23-80ad-5a67f3840d25",
   "metadata": {},
   "outputs": [],
   "source": [
    "import numpy as np\n",
    "import csv\n",
    "import matplotlib.pyplot as plt"
   ]
  },
  {
   "cell_type": "code",
   "execution_count": 2,
   "id": "29416916-4a40-4e73-9b87-132881abe4df",
   "metadata": {},
   "outputs": [],
   "source": [
    "with open(\"test.csv\", \"w\") as file:\n",
    "    file.write(\"x, y\\n\")\n",
    "    for i in range(10):\n",
    "        file.write(\"%d, %d\\n\"%(i,i))"
   ]
  },
  {
   "cell_type": "code",
   "execution_count": 3,
   "id": "fba211ea-028e-4f18-9511-5d5dcfa20235",
   "metadata": {},
   "outputs": [
    {
     "data": {
      "text/plain": [
       "<matplotlib.legend.Legend at 0x7f9dac5a7700>"
      ]
     },
     "execution_count": 3,
     "metadata": {},
     "output_type": "execute_result"
    },
    {
     "data": {
      "image/png": "[encoded data removed]",
      "text/plain": [
       "<Figure size 432x288 with 1 Axes>"
      ]
     },
     "metadata": {
      "needs_background": "light"
     },
     "output_type": "display_data"
    }
   ],
   "source": [
    "data = np.genfromtxt(\"test.csv\", delimiter=\",\")\n",
    "if np.any(np.isnan(data[0])):\n",
    "    with open(\"test.csv\", \"r\") as f:\n",
    "        reader = csv.reader(f)\n",
    "        labels = next(reader)\n",
    "    data = data[1:]\n",
    "    data = data.T\n",
    "else:\n",
    "    data = data.T\n",
    "    labels=[\"column %d\"%(i+1) for i in range(len(data))]\n",
    "    \n",
    "\n",
    "\n",
    "for i in range(len(data)):\n",
    "    plt.plot(data[i], label=labels[i])\n",
    "plt.legend()"
   ]
  },
  {
   "cell_type": "code",
   "execution_count": 4,
   "id": "0688c7b7-e619-4a6d-b351-f940b5a42908",
   "metadata": {},
   "outputs": [],
   "source": [
    "import time \n",
    "\n",
    "def test1():\n",
    "    while True:\n",
    "        print(\"1\")\n",
    "        time.sleep(1)\n",
    "        \n",
    "def test2():\n",
    "    while True:\n",
    "        print(\"2\")\n",
    "        time.sleep(0.5)"
   ]
  },
  {
   "cell_type": "code",
   "execution_count": null,
   "id": "f5b88ca1-272d-4a64-b61b-587cbeb1f7d2",
   "metadata": {},
   "outputs": [
    {
     "name": "stdout",
     "output_type": "stream",
     "text": [
      "1\n",
      "2\n",
      "2\n",
      "1\n",
      "2\n",
      "2\n",
      "1\n",
      "2\n",
      "2\n",
      "1\n",
      "2\n",
      "2\n",
      "1\n",
      "2\n",
      "2\n",
      "1\n",
      "2\n",
      "2\n",
      "1\n",
      "2\n",
      "2\n",
      "1\n",
      "2\n",
      "2\n",
      "1\n",
      "2\n",
      "2\n",
      "1\n",
      "2\n",
      "2\n",
      "1\n",
      "2\n",
      "2\n",
      "1\n",
      "2\n",
      "2\n",
      "1\n",
      "2\n"
     ]
    }
   ],
   "source": [
    "from concurrent.futures import ThreadPoolExecutor\n",
    "\n",
    "def run_io_tasks_in_parallel(tasks):\n",
    "    with ThreadPoolExecutor() as executor:\n",
    "        running_tasks = [executor.submit(task) for task in tasks]\n",
    "        for running_task in running_tasks:\n",
    "            running_task.result()\n",
    "\n",
    "# run_io_tasks_in_parallel([\n",
    "#     lambda: print('IO task 1 running!'),\n",
    "#     lambda: print('IO task 2 running!'),\n",
    "# ])\n",
    "\n",
    "run_io_tasks_in_parallel([test1, test2])"
   ]
  }
 ],
 "metadata": {
  "kernelspec": {
   "display_name": "Python 3",
   "language": "python",
   "name": "python3"
  },
  "language_info": {
   "codemirror_mode": {
    "name": "ipython",
    "version": 3
   },
   "file_extension": ".py",
   "mimetype": "text/x-python",
   "name": "python",
   "nbconvert_exporter": "python",
   "pygments_lexer": "ipython3",
   "version": "3.8.2"
  }
 },
 "nbformat": 4,
 "nbformat_minor": 5
}
